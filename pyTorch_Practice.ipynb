{
  "nbformat": 4,
  "nbformat_minor": 0,
  "metadata": {
    "colab": {
      "provenance": [],
      "authorship_tag": "ABX9TyNDP+eEouJ+bk9R2DRV7VSB",
      "include_colab_link": true
    },
    "kernelspec": {
      "name": "python3",
      "display_name": "Python 3"
    },
    "language_info": {
      "name": "python"
    }
  },
  "cells": [
    {
      "cell_type": "markdown",
      "metadata": {
        "id": "view-in-github",
        "colab_type": "text"
      },
      "source": [
        "<a href=\"https://colab.research.google.com/github/sowmyarajesh/PythonMachingLearning/blob/main/pyTorch_Practice.ipynb\" target=\"_parent\"><img src=\"https://colab.research.google.com/assets/colab-badge.svg\" alt=\"Open In Colab\"/></a>"
      ]
    },
    {
      "cell_type": "markdown",
      "source": [
        "# Transpose Vector, Transpose matrix using numpy and pytorch"
      ],
      "metadata": {
        "id": "DABk_Ri7vLZR"
      }
    },
    {
      "cell_type": "code",
      "execution_count": 1,
      "metadata": {
        "id": "a9b46qbEt0uc"
      },
      "outputs": [],
      "source": [
        "import numpy as np\n",
        "import torch"
      ]
    },
    {
      "cell_type": "code",
      "source": [
        "# create a vector\n",
        "nv = np.array ([[1,2,3,4,5]])\n",
        "print(nv)\n",
        "\n",
        "#transpose it\n",
        "print(nv.T)"
      ],
      "metadata": {
        "id": "ghAAIiXUuHwc",
        "outputId": "8aab8840-b3ee-463d-9836-c585a77d3a82",
        "colab": {
          "base_uri": "https://localhost:8080/"
        }
      },
      "execution_count": 4,
      "outputs": [
        {
          "output_type": "stream",
          "name": "stdout",
          "text": [
            "[[1 2 3 4 5]]\n",
            "[[1]\n",
            " [2]\n",
            " [3]\n",
            " [4]\n",
            " [5]]\n"
          ]
        }
      ]
    },
    {
      "cell_type": "code",
      "source": [
        "nm = np.array([[1,2,3,4],[5,6,7,8],[9,10,11,12]])\n",
        "print(nm)\n",
        "print(nm.T)"
      ],
      "metadata": {
        "id": "RteGnrLwuaWB",
        "outputId": "fd1f39b4-a30f-421b-b67e-e3409e800a72",
        "colab": {
          "base_uri": "https://localhost:8080/"
        }
      },
      "execution_count": 5,
      "outputs": [
        {
          "output_type": "stream",
          "name": "stdout",
          "text": [
            "[[ 1  2  3  4]\n",
            " [ 5  6  7  8]\n",
            " [ 9 10 11 12]]\n",
            "[[ 1  5  9]\n",
            " [ 2  6 10]\n",
            " [ 3  7 11]\n",
            " [ 4  8 12]]\n"
          ]
        }
      ]
    },
    {
      "cell_type": "code",
      "source": [
        "# using pytorch\n",
        "\n",
        "tv = torch.tensor([[1,2,3,4]])\n",
        "print(tv.T)"
      ],
      "metadata": {
        "id": "7m-vU6oqu048",
        "outputId": "96cf528c-45fc-4414-8019-5e6e0ca99f90",
        "colab": {
          "base_uri": "https://localhost:8080/"
        }
      },
      "execution_count": 6,
      "outputs": [
        {
          "output_type": "stream",
          "name": "stdout",
          "text": [
            "tensor([[1],\n",
            "        [2],\n",
            "        [3],\n",
            "        [4]])\n"
          ]
        }
      ]
    },
    {
      "cell_type": "code",
      "source": [
        "tm = torch.tensor([[1,2,3,4],[5,6,7,8],[9,10,11,12]])\n",
        "print(tm.T)"
      ],
      "metadata": {
        "id": "KMupm8iHvBwH",
        "outputId": "54e4e30e-1f24-4158-cc51-aa3c46c383e5",
        "colab": {
          "base_uri": "https://localhost:8080/"
        }
      },
      "execution_count": 7,
      "outputs": [
        {
          "output_type": "stream",
          "name": "stdout",
          "text": [
            "tensor([[ 1,  5,  9],\n",
            "        [ 2,  6, 10],\n",
            "        [ 3,  7, 11],\n",
            "        [ 4,  8, 12]])\n"
          ]
        }
      ]
    },
    {
      "cell_type": "markdown",
      "source": [
        "# Dot Product\n",
        "\n",
        "Dot product is also called Scalar product.\n",
        "\n",
        "Dot product can be represented as one of the following format in the code\n",
        "\n",
        "\n",
        "*   a.b\n",
        "*   <a,b>\n",
        "*   a<sup>T</sup> b\n",
        "\n",
        "dot product is calculated using the formula\n",
        "\n",
        "a.b = SUM(a<sub>i</sub>b<sub>i</sub>)  \n",
        "\n",
        "where i = 1,2...n\n",
        "\n",
        "\n"
      ],
      "metadata": {
        "id": "HKBJLi7KvXp8"
      }
    },
    {
      "cell_type": "code",
      "source": [],
      "metadata": {
        "id": "xK6n6jQwvI4o"
      },
      "execution_count": null,
      "outputs": []
    }
  ]
}