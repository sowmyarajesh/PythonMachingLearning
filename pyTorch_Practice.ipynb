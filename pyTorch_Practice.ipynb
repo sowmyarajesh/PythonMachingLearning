{
  "nbformat": 4,
  "nbformat_minor": 0,
  "metadata": {
    "colab": {
      "provenance": [],
      "authorship_tag": "ABX9TyPcwcTRzZOKXl7RwcdojVZc",
      "include_colab_link": true
    },
    "kernelspec": {
      "name": "python3",
      "display_name": "Python 3"
    },
    "language_info": {
      "name": "python"
    }
  },
  "cells": [
    {
      "cell_type": "markdown",
      "metadata": {
        "id": "view-in-github",
        "colab_type": "text"
      },
      "source": [
        "<a href=\"https://colab.research.google.com/github/sowmyarajesh/PythonMachingLearning/blob/main/pyTorch_Practice.ipynb\" target=\"_parent\"><img src=\"https://colab.research.google.com/assets/colab-badge.svg\" alt=\"Open In Colab\"/></a>"
      ]
    },
    {
      "cell_type": "markdown",
      "source": [
        "# Transpose Vector, Transpose matrix using numpy and pytorch"
      ],
      "metadata": {
        "id": "DABk_Ri7vLZR"
      }
    },
    {
      "cell_type": "code",
      "execution_count": 1,
      "metadata": {
        "id": "a9b46qbEt0uc"
      },
      "outputs": [],
      "source": [
        "import numpy as np\n",
        "import torch"
      ]
    },
    {
      "cell_type": "code",
      "source": [
        "# create a vector\n",
        "nv = np.array ([[1,2,3,4,5]])\n",
        "print(nv)\n",
        "\n",
        "#transpose it\n",
        "print(nv.T)"
      ],
      "metadata": {
        "colab": {
          "base_uri": "https://localhost:8080/"
        },
        "id": "ghAAIiXUuHwc",
        "outputId": "8aab8840-b3ee-463d-9836-c585a77d3a82"
      },
      "execution_count": 4,
      "outputs": [
        {
          "output_type": "stream",
          "name": "stdout",
          "text": [
            "[[1 2 3 4 5]]\n",
            "[[1]\n",
            " [2]\n",
            " [3]\n",
            " [4]\n",
            " [5]]\n"
          ]
        }
      ]
    },
    {
      "cell_type": "code",
      "source": [
        "nm = np.array([[1,2,3,4],[5,6,7,8],[9,10,11,12]])\n",
        "print(nm)\n",
        "print(nm.T)"
      ],
      "metadata": {
        "colab": {
          "base_uri": "https://localhost:8080/"
        },
        "id": "RteGnrLwuaWB",
        "outputId": "fd1f39b4-a30f-421b-b67e-e3409e800a72"
      },
      "execution_count": 5,
      "outputs": [
        {
          "output_type": "stream",
          "name": "stdout",
          "text": [
            "[[ 1  2  3  4]\n",
            " [ 5  6  7  8]\n",
            " [ 9 10 11 12]]\n",
            "[[ 1  5  9]\n",
            " [ 2  6 10]\n",
            " [ 3  7 11]\n",
            " [ 4  8 12]]\n"
          ]
        }
      ]
    },
    {
      "cell_type": "code",
      "source": [
        "# using pytorch\n",
        "\n",
        "tv = torch.tensor([[1,2,3,4]])\n",
        "print(tv.T)"
      ],
      "metadata": {
        "colab": {
          "base_uri": "https://localhost:8080/"
        },
        "id": "7m-vU6oqu048",
        "outputId": "96cf528c-45fc-4414-8019-5e6e0ca99f90"
      },
      "execution_count": 6,
      "outputs": [
        {
          "output_type": "stream",
          "name": "stdout",
          "text": [
            "tensor([[1],\n",
            "        [2],\n",
            "        [3],\n",
            "        [4]])\n"
          ]
        }
      ]
    },
    {
      "cell_type": "code",
      "source": [
        "tm = torch.tensor([[1,2,3,4],[5,6,7,8],[9,10,11,12]])\n",
        "print(tm.T)"
      ],
      "metadata": {
        "colab": {
          "base_uri": "https://localhost:8080/"
        },
        "id": "KMupm8iHvBwH",
        "outputId": "54e4e30e-1f24-4158-cc51-aa3c46c383e5"
      },
      "execution_count": 7,
      "outputs": [
        {
          "output_type": "stream",
          "name": "stdout",
          "text": [
            "tensor([[ 1,  5,  9],\n",
            "        [ 2,  6, 10],\n",
            "        [ 3,  7, 11],\n",
            "        [ 4,  8, 12]])\n"
          ]
        }
      ]
    },
    {
      "cell_type": "markdown",
      "source": [
        "# Dot Product\n",
        "\n",
        "Dot product is also called Scalar product.\n",
        "\n",
        "Dot product can be done only with two vectors of same length or two square matrix of same shape.\n",
        "\n",
        "Dot product can be represented as one of the following format in the code\n",
        "\n",
        "\n",
        "*   a.b\n",
        "*   <a,b>\n",
        "*   a<sup>T</sup> b\n",
        "\n",
        "dot product is calculated using the formula\n",
        "\n",
        "a.b = SUM(a<sub>i</sub>b<sub>i</sub>)  \n",
        "\n",
        "where i = 1,2...n\n",
        "\n",
        "\n"
      ],
      "metadata": {
        "id": "HKBJLi7KvXp8"
      }
    },
    {
      "cell_type": "markdown",
      "source": [
        "using numpy"
      ],
      "metadata": {
        "id": "NAXZe5fNx9z3"
      }
    },
    {
      "cell_type": "code",
      "source": [
        "v1 = np.array([1,2,3,4])\n",
        "v2 = np.array([1,-1,0,-1])\n",
        "# dot product function\n",
        "print(np.dot(v1,v2))\n",
        "\n",
        "# dot product using formula\n",
        "print(np.sum(v1*v2))\n"
      ],
      "metadata": {
        "colab": {
          "base_uri": "https://localhost:8080/"
        },
        "id": "xK6n6jQwvI4o",
        "outputId": "a58c95b5-4994-4b6c-db0d-8796726a2aa3"
      },
      "execution_count": 8,
      "outputs": [
        {
          "output_type": "stream",
          "name": "stdout",
          "text": [
            "-5\n",
            "-5\n"
          ]
        }
      ]
    },
    {
      "cell_type": "code",
      "source": [
        "v1 = np.array([[1,2,3,4],[1,2,3,4],[1,2,3,4],[1,2,3,4]])\n",
        "v2 = np.array([[1,-1,0,-1],[1,-1,0,-1],[1,-1,0,-1],[1,-1,0,-1]])\n",
        "# dot product function\n",
        "print(np.dot(v1,v2))\n",
        "\n",
        "# dot product using formula\n",
        "print(np.sum(v1*v2))"
      ],
      "metadata": {
        "id": "cT_6-YaXxpFC",
        "outputId": "1b0b4b4c-ce83-4a69-9166-61082b32a88d",
        "colab": {
          "base_uri": "https://localhost:8080/"
        }
      },
      "execution_count": 10,
      "outputs": [
        {
          "output_type": "stream",
          "name": "stdout",
          "text": [
            "[[ 10 -10   0 -10]\n",
            " [ 10 -10   0 -10]\n",
            " [ 10 -10   0 -10]\n",
            " [ 10 -10   0 -10]]\n",
            "-20\n"
          ]
        }
      ]
    },
    {
      "cell_type": "markdown",
      "source": [
        "using pytorch"
      ],
      "metadata": {
        "id": "ONXQfdXcyAko"
      }
    },
    {
      "cell_type": "code",
      "source": [
        "v1 = torch.tensor([1,2,3,4])\n",
        "v2 = torch.tensor([1,-1,0,-1])\n",
        "# dot product function\n",
        "print(torch.dot(v1,v2))\n",
        "\n",
        "# dot product using formula\n",
        "print(torch.sum(v1*v2))"
      ],
      "metadata": {
        "id": "jJtr7wmDxyPz",
        "outputId": "ccbf928b-c686-43c1-c6eb-896db5757b9a",
        "colab": {
          "base_uri": "https://localhost:8080/"
        }
      },
      "execution_count": 11,
      "outputs": [
        {
          "output_type": "stream",
          "name": "stdout",
          "text": [
            "tensor(-5)\n",
            "tensor(-5)\n"
          ]
        }
      ]
    }
  ]
}